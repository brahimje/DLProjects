{
  "nbformat": 4,
  "nbformat_minor": 0,
  "metadata": {
    "colab": {
      "provenance": [],
      "mount_file_id": "11zupKFeQ8xyZmzaOvg-fv3PboV1EvJSY",
      "authorship_tag": "ABX9TyNLobv548I5jku5J9AImzrF",
      "include_colab_link": true
    },
    "kernelspec": {
      "name": "python3",
      "display_name": "Python 3"
    },
    "language_info": {
      "name": "python"
    }
  },
  "cells": [
    {
      "cell_type": "markdown",
      "metadata": {
        "id": "view-in-github",
        "colab_type": "text"
      },
      "source": [
        "<a href=\"https://colab.research.google.com/github/brahimje/DLProjects/blob/master/Camp_Emotions.ipynb\" target=\"_parent\"><img src=\"https://colab.research.google.com/assets/colab-badge.svg\" alt=\"Open In Colab\"/></a>"
      ]
    },
    {
      "cell_type": "code",
      "source": [
        "import keras, os\n",
        "from keras.preprocessing.image import ImageDataGenerator\n",
        "from keras.models import Sequential\n",
        "from keras.layers import Dense, Dropout, Activation, Flatten, BatchNormalization\n",
        "from keras.layers import Conv2D, MaxPooling2D\n"
      ],
      "metadata": {
        "id": "zHapNEwt1ZZk"
      },
      "execution_count": 1,
      "outputs": []
    },
    {
      "cell_type": "code",
      "source": [
        "os.chdir(r\"C:\\Users\\dell\\Desktop\\Emotion Detection\")\n",
        "\n",
        "num_classes = 6\n",
        "img_rows, img_cols = 48,48\n",
        "batch_size = 32\n",
        "\n",
        "train_set = r'./fer2013/train'\n",
        "test_set = r'./fer2013/validation'"
      ],
      "metadata": {
        "id": "Z9WmPSii17Wx"
      },
      "execution_count": null,
      "outputs": []
    },
    {
      "cell_type": "code",
      "source": [
        "\n",
        "train_datagen = ImageDataGenerator(\n",
        "                    rescale = 1./255,\n",
        "                    rotation_range = 30,\n",
        "                    shear_range = 0.3,\n",
        "                    zoom_range = 0.3,\n",
        "                    width_shift_range = 0.4,\n",
        "                    height_shift_range = 0.4,\n",
        "                    horizontal_flip = True,\n",
        "                    fill_mode = 'nearest'\n",
        "                    )\n",
        "test_datagen = ImageDataGenerator(\n",
        "                    rescale = 1./255\n",
        "                    )\n",
        "\n",
        "train_generator = train_datagen.flow_from_directory(\n",
        "                        train_set,\n",
        "                        color_mode = 'grayscale',\n",
        "                        target_size = (img_rows, img_cols),\n",
        "                        batch_size = batch_size,\n",
        "                        class_mode = 'categorical',\n",
        "                        shuffle = True\n",
        "                        )\n",
        "\n",
        "test_generator = test_datagen.flow_from_directory(\n",
        "                        test_set,\n",
        "                        target_size = (img_rows, img_cols),\n",
        "                        color_mode = 'grayscale',\n",
        "                        batch_size = batch_size,\n",
        "                        shuffle = True,\n",
        "                        class_mode = 'categorical'\n",
        "                        )"
      ],
      "metadata": {
        "id": "HYdFpgRm1-GL"
      },
      "execution_count": null,
      "outputs": []
    },
    {
      "cell_type": "code",
      "source": [
        "model = Sequential()\n",
        "\n",
        "# Block-1\n",
        "model.add(Conv2D(32,(3,3),padding='same',kernel_initializer='he_normal',input_shape=(img_rows,img_cols,1)))\n",
        "model.add(Activation('elu'))\n",
        "model.add(BatchNormalization())\n",
        "model.add(Conv2D(32,(3,3),padding='same',kernel_initializer='he_normal',input_shape=(img_rows,img_cols,1)))\n",
        "model.add(Activation('elu'))\n",
        "model.add(BatchNormalization())\n",
        "model.add(MaxPooling2D(pool_size=(2,2)))\n",
        "model.add(Dropout(0.2))\n",
        "\n",
        "# Block-2 \n",
        "model.add(Conv2D(64,(3,3),padding='same',kernel_initializer='he_normal'))\n",
        "model.add(Activation('elu'))\n",
        "model.add(BatchNormalization())\n",
        "model.add(Conv2D(64,(3,3),padding='same',kernel_initializer='he_normal'))\n",
        "model.add(Activation('elu'))\n",
        "model.add(BatchNormalization())\n",
        "model.add(MaxPooling2D(pool_size=(2,2)))\n",
        "model.add(Dropout(0.2))\n",
        "\n",
        "# Block-3\n",
        "model.add(Conv2D(128,(3,3),padding='same',kernel_initializer='he_normal'))\n",
        "model.add(Activation('elu'))\n",
        "model.add(BatchNormalization())\n",
        "model.add(Conv2D(128,(3,3),padding='same',kernel_initializer='he_normal'))\n",
        "model.add(Activation('elu'))\n",
        "model.add(BatchNormalization())\n",
        "model.add(MaxPooling2D(pool_size=(2,2)))\n",
        "model.add(Dropout(0.2))\n",
        "\n",
        "# Block-4 \n",
        "model.add(Conv2D(256,(3,3),padding='same',kernel_initializer='he_normal'))\n",
        "model.add(Activation('elu'))\n",
        "model.add(BatchNormalization())\n",
        "model.add(Conv2D(256,(3,3),padding='same',kernel_initializer='he_normal'))\n",
        "model.add(Activation('elu'))\n",
        "model.add(BatchNormalization())\n",
        "model.add(MaxPooling2D(pool_size=(2,2)))\n",
        "model.add(Dropout(0.2))\n",
        "\n",
        "# Block-5\n",
        "model.add(Flatten())\n",
        "model.add(Dense(64,kernel_initializer='he_normal'))\n",
        "model.add(Activation('elu'))\n",
        "model.add(BatchNormalization())\n",
        "model.add(Dropout(0.5))\n",
        "\n",
        "# Block-6\n",
        "model.add(Dense(64,kernel_initializer='he_normal'))\n",
        "model.add(Activation('elu'))\n",
        "model.add(BatchNormalization())\n",
        "model.add(Dropout(0.5))\n",
        "\n",
        "# Block-7\n",
        "model.add(Dense(num_classes,kernel_initializer='he_normal'))\n",
        "model.add(Activation('softmax'))\n",
        "\n",
        "print(model.summary())"
      ],
      "metadata": {
        "id": "_1yoD4Mz2EZd"
      },
      "execution_count": null,
      "outputs": []
    },
    {
      "cell_type": "code",
      "source": [
        "\n",
        "from keras.optimizers import RMSprop,SGD,Adam\n",
        "from keras.callbacks import ModelCheckpoint, EarlyStopping, ReduceLROnPlateau\n",
        "\n",
        "checkpoint = ModelCheckpoint('Emotion_vgg.h5',\n",
        "                             monitor='val_loss',\n",
        "                             mode='min',\n",
        "                             save_best_only=True,\n",
        "                             verbose=1)\n",
        "\n",
        "earlystop = EarlyStopping(monitor='val_loss',\n",
        "                          min_delta=0,\n",
        "                          patience=9,\n",
        "                          verbose=1,\n",
        "                          restore_best_weights=True\n",
        "                          )\n",
        "\n",
        "reduce_lr = ReduceLROnPlateau(monitor='val_loss',\n",
        "                              factor=0.2,\n",
        "                              patience=3,\n",
        "                              verbose=1,\n",
        "                              min_delta=0.0001)\n",
        "\n",
        "callbacks = [earlystop,checkpoint,reduce_lr]\n",
        "\n",
        "model.compile(loss='categorical_crossentropy',\n",
        "              optimizer = Adam(lr=0.001),\n",
        "              metrics=['accuracy'])\n"
      ],
      "metadata": {
        "id": "d_lCdxfV2NXs"
      },
      "execution_count": null,
      "outputs": []
    },
    {
      "cell_type": "code",
      "source": [
        "nb_train_samples = 24176\n",
        "nb_validation_samples = 3006\n",
        "epochs=25\n",
        "\n",
        "history=model.fit_generator(\n",
        "                train_generator,\n",
        "                steps_per_epoch=nb_train_samples//batch_size,\n",
        "                epochs=epochs,\n",
        "                callbacks=callbacks,\n",
        "                validation_data=test_generator,\n",
        "                validation_steps=nb_validation_samples//batch_size)"
      ],
      "metadata": {
        "id": "Km8d9BsP3-k6"
      },
      "execution_count": null,
      "outputs": []
    },
    {
      "cell_type": "markdown",
      "source": [
        "#Testing"
      ],
      "metadata": {
        "id": "lzxDHCgl4fPF"
      }
    },
    {
      "cell_type": "code",
      "source": [
        "from keras.models import load_model\n",
        "from time import sleep\n",
        "from keras.preprocessing.image import img_to_array\n",
        "from keras.preprocessing import image\n",
        "import cv2, os\n",
        "import numpy as np\n",
        "\n",
        "os.chdir(r\"C:\\Users\\dell\\Desktop\\Emotion Detection\")\n",
        "\n",
        "face_classifier = cv2.CascadeClassifier('./fer2013/haarcascade_frontalface_default.xml')\n",
        "classifier =load_model('./fer2013/Emotion_little_vgg.h5')\n",
        "\n",
        "class_labels = ['Angry','Happy','Neutral','Sad','Surprise']\n",
        "\n",
        "# def face_detector(img):\n",
        "#     # Convert image to grayscale\n",
        "#     gray = cv2.cvtColor(img,cv2.COLOR_BGR2GRAY)\n",
        "#     faces = face_classifier.detectMultiScale(gray,1.3,5)\n",
        "#     if faces is ():\n",
        "#         return (0,0,0,0),np.zeros((48,48),np.uint8),img\n",
        "\n",
        "#     for (x,y,w,h) in faces:\n",
        "#         cv2.rectangle(img,(x,y),(x+w,y+h),(255,0,0),2)\n",
        "#         roi_gray = gray[y:y+h,x:x+w]\n",
        "\n",
        "#     try:\n",
        "#         roi_gray = cv2.resize(roi_gray,(48,48),interpolation=cv2.INTER_AREA)\n",
        "#     except:\n",
        "#         return (x,w,y,h),np.zeros((48,48),np.uint8),img\n",
        "#     return (x,w,y,h),roi_gray,img\n",
        "\n",
        "\n",
        "cap = cv2.VideoCapture(0)\n",
        "\n",
        "\n",
        "\n",
        "while True:\n",
        "    # Grab a single frame of video\n",
        "    ret, frame = cap.read()\n",
        "    labels = []\n",
        "    gray = cv2.cvtColor(frame,cv2.COLOR_BGR2GRAY)\n",
        "    faces = face_classifier.detectMultiScale(gray,1.3,5)\n",
        "\n",
        "    for (x,y,w,h) in faces:\n",
        "        cv2.rectangle(frame,(x,y),(x+w,y+h),(255,0,0),2)\n",
        "        roi_gray = gray[y:y+h,x:x+w]\n",
        "        roi_gray = cv2.resize(roi_gray,(48,48),interpolation=cv2.INTER_AREA)\n",
        "    # rect,face,image = face_detector(frame)\n",
        "\n",
        "\n",
        "        if np.sum([roi_gray])!=0:\n",
        "            roi = roi_gray.astype('float')/255.0\n",
        "            roi = img_to_array(roi)\n",
        "            roi = np.expand_dims(roi,axis=0)\n",
        "\n",
        "        # make a prediction on the ROI, then lookup the class\n",
        "\n",
        "            preds = classifier.predict(roi)[0]\n",
        "            label=class_labels[preds.argmax()]\n",
        "            label_position = (x,y)\n",
        "            cv2.putText(frame,label,label_position,cv2.FONT_HERSHEY_SIMPLEX,2,(0,255,0),3)\n",
        "        else:\n",
        "            cv2.putText(frame,'No Face Found',(20,60),cv2.FONT_HERSHEY_SIMPLEX,2,(0,255,0),3)\n",
        "    cv2.imshow('Emotion Detector',frame)\n",
        "    if cv2.waitKey(1) & 0xFF == ord('q'):\n",
        "        break\n",
        "\n",
        "cap.release()\n",
        "cv2.destroyAllWindows()"
      ],
      "metadata": {
        "id": "pcMiJ8O04hPF"
      },
      "execution_count": null,
      "outputs": []
    }
  ]
}