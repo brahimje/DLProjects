{
  "cells": [
    {
      "cell_type": "markdown",
      "metadata": {
        "id": "view-in-github",
        "colab_type": "text"
      },
      "source": [
        "<a href=\"https://colab.research.google.com/github/brahimje/DLProjects/blob/master/CNN/hello_word.ipynb\" target=\"_parent\"><img src=\"https://colab.research.google.com/assets/colab-badge.svg\" alt=\"Open In Colab\"/></a>"
      ]
    },
    {
      "cell_type": "markdown",
      "source": [
        "**The Hello World of Deep Learning with Neural Networks**"
      ],
      "metadata": {
        "id": "OYyfsTngMPOY"
      }
    },
    {
      "cell_type": "markdown",
      "source": [
        "**❓ Problem** "
      ],
      "metadata": {
        "id": "T5gcbSlbLhxV"
      }
    },
    {
      "cell_type": "code",
      "execution_count": null,
      "metadata": {
        "collapsed": true,
        "pycharm": {
          "name": "#%%\n"
        },
        "id": "3BwMTDl2KKNq"
      },
      "outputs": [],
      "source": [
        "def relation_function(x):\n",
        "  y = (2 * x) - 1\n",
        "  return y"
      ]
    },
    {
      "cell_type": "markdown",
      "source": [
        "**🥅 The goal is to train a neural network to do the equivalent task.**"
      ],
      "metadata": {
        "id": "rm52LpQ-MTL3"
      }
    },
    {
      "cell_type": "markdown",
      "source": [
        "# Imports"
      ],
      "metadata": {
        "id": "NBSXcEd1M0ws"
      }
    },
    {
      "cell_type": "code",
      "source": [
        "import tensorflow as tf\n",
        "import numpy as np\n",
        "from tensorflow import keras\n",
        "\n",
        "print(tf.__version__)"
      ],
      "metadata": {
        "colab": {
          "base_uri": "https://localhost:8080/"
        },
        "id": "cLYkq8CtMohk",
        "outputId": "75f9c46b-8ef3-4448-8d2b-4ce8126d8260"
      },
      "execution_count": 1,
      "outputs": [
        {
          "output_type": "stream",
          "name": "stdout",
          "text": [
            "2.8.2\n"
          ]
        }
      ]
    }
  ],
  "metadata": {
    "kernelspec": {
      "display_name": "Python 3",
      "language": "python",
      "name": "python3"
    },
    "language_info": {
      "codemirror_mode": {
        "name": "ipython",
        "version": 2
      },
      "file_extension": ".py",
      "mimetype": "text/x-python",
      "name": "python",
      "nbconvert_exporter": "python",
      "pygments_lexer": "ipython2",
      "version": "2.7.6"
    },
    "colab": {
      "provenance": [],
      "include_colab_link": true
    }
  },
  "nbformat": 4,
  "nbformat_minor": 0
}