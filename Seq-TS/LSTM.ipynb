{
  "cells": [
    {
      "cell_type": "markdown",
      "metadata": {
        "id": "view-in-github",
        "colab_type": "text"
      },
      "source": [
        "<a href=\"https://colab.research.google.com/github/brahimje/DLProjects/blob/master/Seq-TS/LSTM.ipynb\" target=\"_parent\"><img src=\"https://colab.research.google.com/assets/colab-badge.svg\" alt=\"Open In Colab\"/></a>"
      ]
    },
    {
      "cell_type": "markdown",
      "metadata": {
        "id": "sV_nvXSQGJPK"
      },
      "source": [
        "# Multi-layer LSTM for forecasting\n",
        "\n",
        "In this lab, you will use the same RNN architecure in the first lab but will instead stack [LSTM](https://www.tensorflow.org/api_docs/python/tf/keras/layers/LSTM) layers instead of `SimpleRNN`."
      ]
    },
    {
      "cell_type": "markdown",
      "metadata": {
        "id": "3IMbAWETGOWD"
      },
      "source": [
        "## Imports"
      ]
    },
    {
      "cell_type": "code",
      "execution_count": 1,
      "metadata": {
        "id": "BOjujz601HcS"
      },
      "outputs": [],
      "source": [
        "import tensorflow as tf\n",
        "import numpy as np\n",
        "import matplotlib.pyplot as plt"
      ]
    },
    {
      "cell_type": "markdown",
      "metadata": {
        "id": "kD7RQQ0xGQVH"
      },
      "source": [
        "## Utilities"
      ]
    },
    {
      "cell_type": "code",
      "execution_count": 2,
      "metadata": {
        "id": "Zswl7jRtGzkk"
      },
      "outputs": [],
      "source": [
        "def plot_series(time, series, format=\"-\", start=0, end=None):\n",
        "    \"\"\"\n",
        "    Visualizes time series data\n",
        "\n",
        "    Args:\n",
        "      time (array of int) - contains the time steps\n",
        "      series (array of int) - contains the measurements for each time step\n",
        "      format - line style when plotting the graph\n",
        "      start - first time step to plot\n",
        "      end - last time step to plot\n",
        "    \"\"\"\n",
        "\n",
        "    # Setup dimensions of the graph figure\n",
        "    plt.figure(figsize=(10, 6))\n",
        "    \n",
        "    if type(series) is tuple:\n",
        "\n",
        "      for series_num in series:\n",
        "        # Plot the time series data\n",
        "        plt.plot(time[start:end], series_num[start:end], format)\n",
        "\n",
        "    else:\n",
        "      # Plot the time series data\n",
        "      plt.plot(time[start:end], series[start:end], format)\n",
        "\n",
        "    # Label the x-axis\n",
        "    plt.xlabel(\"Time\")\n",
        "\n",
        "    # Label the y-axis\n",
        "    plt.ylabel(\"Value\")\n",
        "\n",
        "    # Overlay a grid on the graph\n",
        "    plt.grid(True)\n",
        "\n",
        "    # Draw the graph on screen\n",
        "    plt.show()\n",
        "\n",
        "def trend(time, slope=0):\n",
        "    \"\"\"\n",
        "    Generates synthetic data that follows a straight line given a slope value.\n",
        "\n",
        "    Args:\n",
        "      time (array of int) - contains the time steps\n",
        "      slope (float) - determines the direction and steepness of the line\n",
        "\n",
        "    Returns:\n",
        "      series (array of float) - measurements that follow a straight line\n",
        "    \"\"\"\n",
        "\n",
        "    # Compute the linear series given the slope\n",
        "    series = slope * time\n",
        "\n",
        "    return series\n",
        "\n",
        "def seasonal_pattern(season_time):\n",
        "    \"\"\"\n",
        "    Just an arbitrary pattern, you can change it if you wish\n",
        "    \n",
        "    Args:\n",
        "      season_time (array of float) - contains the measurements per time step\n",
        "\n",
        "    Returns:\n",
        "      data_pattern (array of float) -  contains revised measurement values according \n",
        "                                  to the defined pattern\n",
        "    \"\"\"\n",
        "\n",
        "    # Generate the values using an arbitrary pattern\n",
        "    data_pattern = np.where(season_time < 0.4,\n",
        "                    np.cos(season_time * 2 * np.pi),\n",
        "                    1 / np.exp(3 * season_time))\n",
        "    \n",
        "    return data_pattern\n",
        "\n",
        "def seasonality(time, period, amplitude=1, phase=0):\n",
        "    \"\"\"\n",
        "    Repeats the same pattern at each period\n",
        "\n",
        "    Args:\n",
        "      time (array of int) - contains the time steps\n",
        "      period (int) - number of time steps before the pattern repeats\n",
        "      amplitude (int) - peak measured value in a period\n",
        "      phase (int) - number of time steps to shift the measured values\n",
        "\n",
        "    Returns:\n",
        "      data_pattern (array of float) - seasonal data scaled by the defined amplitude\n",
        "    \"\"\"\n",
        "    \n",
        "    # Define the measured values per period\n",
        "    season_time = ((time + phase) % period) / period\n",
        "\n",
        "    # Generates the seasonal data scaled by the defined amplitude\n",
        "    data_pattern = amplitude * seasonal_pattern(season_time)\n",
        "\n",
        "    return data_pattern\n",
        "\n",
        "def noise(time, noise_level=1, seed=None):\n",
        "    \"\"\"Generates a normally distributed noisy signal\n",
        "\n",
        "    Args:\n",
        "      time (array of int) - contains the time steps\n",
        "      noise_level (float) - scaling factor for the generated signal\n",
        "      seed (int) - number generator seed for repeatability\n",
        "\n",
        "    Returns:\n",
        "      noise (array of float) - the noisy signal\n",
        "    \"\"\"\n",
        "\n",
        "    # Initialize the random number generator\n",
        "    rnd = np.random.RandomState(seed)\n",
        "\n",
        "    # Generate a random number for each time step and scale by the noise level\n",
        "    noise = rnd.randn(len(time)) * noise_level\n",
        "    \n",
        "    return noise"
      ]
    },
    {
      "cell_type": "markdown",
      "metadata": {
        "id": "yxNyeFWjGSdj"
      },
      "source": [
        "## Generate the Synthetic Data"
      ]
    },
    {
      "cell_type": "code",
      "execution_count": 3,
      "metadata": {
        "id": "KYEUfDbdpHPm",
        "colab": {
          "base_uri": "https://localhost:8080/",
          "height": 388
        },
        "outputId": "61e8ec3f-2667-4540-b8d0-bd78264c2337"
      },
      "outputs": [
        {
          "output_type": "display_data",
          "data": {
            "text/plain": [
              "<Figure size 720x432 with 1 Axes>"
            ],
            "image/png": "[encoded data removed]"
          },
          "metadata": {
            "needs_background": "light"
          }
        }
      ],
      "source": [
        "# Parameters\n",
        "time = np.arange(4 * 365 + 1, dtype=\"float32\")\n",
        "baseline = 10\n",
        "amplitude = 40\n",
        "slope = 0.05\n",
        "noise_level = 5\n",
        "\n",
        "# Create the series\n",
        "series = baseline + trend(time, slope) + seasonality(time, period=365, amplitude=amplitude)\n",
        "\n",
        "# Update with noise\n",
        "series += noise(time, noise_level, seed=42)\n",
        "\n",
        "# Plot the results\n",
        "plot_series(time, series)"
      ]
    },
    {
      "cell_type": "markdown",
      "metadata": {
        "id": "MYKCvv-eGWRc"
      },
      "source": [
        "## Split the Dataset"
      ]
    },
    {
      "cell_type": "code",
      "execution_count": 4,
      "metadata": {
        "id": "hpp0slenpKVD"
      },
      "outputs": [],
      "source": [
        "# Define the split time\n",
        "split_time = 1000\n",
        "\n",
        "# Get the train set \n",
        "time_train = time[:split_time]\n",
        "x_train = series[:split_time]\n",
        "\n",
        "# Get the validation set\n",
        "time_valid = time[split_time:]\n",
        "x_valid = series[split_time:]"
      ]
    },
    {
      "cell_type": "markdown",
      "metadata": {
        "id": "cktHz9aOGYtV"
      },
      "source": [
        "## Prepare Features and Labels"
      ]
    },
    {
      "cell_type": "code",
      "execution_count": 5,
      "metadata": {
        "id": "G_j_2_Mqwn7-"
      },
      "outputs": [],
      "source": [
        "# Parameters\n",
        "window_size = 20\n",
        "batch_size = 32\n",
        "shuffle_buffer_size = 1000"
      ]
    },
    {
      "cell_type": "code",
      "execution_count": 6,
      "metadata": {
        "id": "4sTTIOCbyShY"
      },
      "outputs": [],
      "source": [
        "def windowed_dataset(series, window_size, batch_size, shuffle_buffer):\n",
        "    \"\"\"Generates dataset windows\n",
        "\n",
        "    Args:\n",
        "      series (array of float) - contains the values of the time series\n",
        "      window_size (int) - the number of time steps to include in the feature\n",
        "      batch_size (int) - the batch size\n",
        "      shuffle_buffer(int) - buffer size to use for the shuffle method\n",
        "\n",
        "    Returns:\n",
        "      dataset (TF Dataset) - TF Dataset containing time windows\n",
        "    \"\"\"\n",
        "  \n",
        "    # Generate a TF Dataset from the series values\n",
        "    dataset = tf.data.Dataset.from_tensor_slices(series)\n",
        "    \n",
        "    # Window the data but only take those with the specified size\n",
        "    dataset = dataset.window(window_size + 1, shift=1, drop_remainder=True)\n",
        "    \n",
        "    # Flatten the windows by putting its elements in a single batch\n",
        "    dataset = dataset.flat_map(lambda window: window.batch(window_size + 1))\n",
        "\n",
        "    # Create tuples with features and labels \n",
        "    dataset = dataset.map(lambda window: (window[:-1], window[-1]))\n",
        "\n",
        "    # Shuffle the windows\n",
        "    dataset = dataset.shuffle(shuffle_buffer)\n",
        "    \n",
        "    # Create batches of windows\n",
        "    dataset = dataset.batch(batch_size).prefetch(1)\n",
        "    \n",
        "    return dataset"
      ]
    },
    {
      "cell_type": "code",
      "execution_count": 7,
      "metadata": {
        "id": "vGj5-InSwtQQ",
        "colab": {
          "base_uri": "https://localhost:8080/"
        },
        "outputId": "8ba0bf89-37c0-453f-9162-5a9611eb69c1"
      },
      "outputs": [
        {
          "output_type": "stream",
          "name": "stderr",
          "text": [
            "WARNING:tensorflow:From /usr/local/lib/python3.8/dist-packages/tensorflow/python/autograph/pyct/static_analysis/liveness.py:83: Analyzer.lamba_check (from tensorflow.python.autograph.pyct.static_analysis.liveness) is deprecated and will be removed after 2023-09-23.\n",
            "Instructions for updating:\n",
            "Lambda fuctions will be no more assumed to be used in the statement where they are used, or at least in the same block. https://github.com/tensorflow/tensorflow/issues/56089\n"
          ]
        }
      ],
      "source": [
        "# Generate the dataset windows\n",
        "dataset = windowed_dataset(x_train, window_size, batch_size, shuffle_buffer_size)"
      ]
    },
    {
      "cell_type": "markdown",
      "metadata": {
        "id": "p9-Ke8ZaGcjd"
      },
      "source": [
        "## Build the Model\n",
        "\n",
        "As mentioned, you will swap `SimpleRNN` for `LSTM` in this lab. It is also set as bidirectional below but feel free to revise later and see what results you get. LSTMs are much more complex in their internal architecture than simpleRNNs. It implements a cell state that allows it to remember sequences better than simple implementations. This added complexity results in a bigger set of parameters to train and you'll see that when you print the model summary below."
      ]
    },
    {
      "cell_type": "code",
      "execution_count": 8,
      "metadata": {
        "id": "A1Hl39rklkLm",
        "colab": {
          "base_uri": "https://localhost:8080/"
        },
        "outputId": "7c06a0df-031f-4d52-bc3d-5c3893dbb2a1"
      },
      "outputs": [
        {
          "output_type": "stream",
          "name": "stdout",
          "text": [
            "Model: \"sequential\"\n",
            "_________________________________________________________________\n",
            " Layer (type)                Output Shape              Param #   \n",
            "=================================================================\n",
            " lambda (Lambda)             (None, 20, 1)             0         \n",
            "                                                                 \n",
            " bidirectional (Bidirectiona  (None, 20, 64)           8704      \n",
            " l)                                                              \n",
            "                                                                 \n",
            " bidirectional_1 (Bidirectio  (None, 64)               24832     \n",
            " nal)                                                            \n",
            "                                                                 \n",
            " dense (Dense)               (None, 1)                 65        \n",
            "                                                                 \n",
            " lambda_1 (Lambda)           (None, 1)                 0         \n",
            "                                                                 \n",
            "=================================================================\n",
            "Total params: 33,601\n",
            "Trainable params: 33,601\n",
            "Non-trainable params: 0\n",
            "_________________________________________________________________\n"
          ]
        }
      ],
      "source": [
        "# Build the Model\n",
        "model_tune = tf.keras.models.Sequential([\n",
        "  tf.keras.layers.Lambda(lambda x: tf.expand_dims(x, axis=-1),\n",
        "                      input_shape=[window_size]),\n",
        "    tf.keras.layers.Bidirectional(tf.keras.layers.LSTM(32, return_sequences=True)),\n",
        "  tf.keras.layers.Bidirectional(tf.keras.layers.LSTM(32)),\n",
        "  tf.keras.layers.Dense(1),\n",
        "  tf.keras.layers.Lambda(lambda x: x * 100.0)\n",
        "])\n",
        "\n",
        "# Print the model summary\n",
        "model_tune.summary()"
      ]
    },
    {
      "cell_type": "markdown",
      "metadata": {
        "id": "FHaFblbwq0GV"
      },
      "source": [
        "## Tune the Learning Rate\n",
        "\n",
        "As usual, you will pick a learning rate by running the tuning code below."
      ]
    },
    {
      "cell_type": "code",
      "execution_count": 9,
      "metadata": {
        "id": "qE7al18qw48G",
        "colab": {
          "base_uri": "https://localhost:8080/"
        },
        "outputId": "a1e7b344-3090-40bf-a9d2-d6a91adff4ca"
      },
      "outputs": [
        {
          "output_type": "stream",
          "name": "stdout",
          "text": [
            "Epoch 1/100\n",
            "31/31 [==============================] - 22s 18ms/step - loss: 13.8461 - lr: 1.0000e-08\n",
            "Epoch 2/100\n",
            "31/31 [==============================] - 1s 14ms/step - loss: 13.6673 - lr: 1.1220e-08\n",
            "Epoch 3/100\n",
            "31/31 [==============================] - 1s 14ms/step - loss: 13.4930 - lr: 1.2589e-08\n",
            "Epoch 4/100\n",
            "31/31 [==============================] - 0s 10ms/step - loss: 13.3431 - lr: 1.4125e-08\n",
            "Epoch 5/100\n",
            "31/31 [==============================] - 0s 10ms/step - loss: 13.2058 - lr: 1.5849e-08\n",
            "Epoch 6/100\n",
            "31/31 [==============================] - 0s 9ms/step - loss: 13.0797 - lr: 1.7783e-08\n",
            "Epoch 7/100\n",
            "31/31 [==============================] - 0s 10ms/step - loss: 12.9615 - lr: 1.9953e-08\n",
            "Epoch 8/100\n",
            "31/31 [==============================] - 0s 10ms/step - loss: 12.8473 - lr: 2.2387e-08\n",
            "Epoch 9/100\n",
            "31/31 [==============================] - 0s 9ms/step - loss: 12.7391 - lr: 2.5119e-08\n",
            "Epoch 10/100\n",
            "31/31 [==============================] - 0s 10ms/step - loss: 12.6308 - lr: 2.8184e-08\n",
            "Epoch 11/100\n",
            "31/31 [==============================] - 0s 10ms/step - loss: 12.5216 - lr: 3.1623e-08\n",
            "Epoch 12/100\n",
            "31/31 [==============================] - 0s 9ms/step - loss: 12.4122 - lr: 3.5481e-08\n",
            "Epoch 13/100\n",
            "31/31 [==============================] - 0s 10ms/step - loss: 12.2849 - lr: 3.9811e-08\n",
            "Epoch 14/100\n",
            "31/31 [==============================] - 0s 9ms/step - loss: 12.1511 - lr: 4.4668e-08\n",
            "Epoch 15/100\n",
            "31/31 [==============================] - 0s 10ms/step - loss: 12.0049 - lr: 5.0119e-08\n",
            "Epoch 16/100\n",
            "31/31 [==============================] - 0s 10ms/step - loss: 11.8424 - lr: 5.6234e-08\n",
            "Epoch 17/100\n",
            "31/31 [==============================] - 0s 9ms/step - loss: 11.6610 - lr: 6.3096e-08\n",
            "Epoch 18/100\n",
            "31/31 [==============================] - 0s 10ms/step - loss: 11.4645 - lr: 7.0795e-08\n",
            "Epoch 19/100\n",
            "31/31 [==============================] - 0s 9ms/step - loss: 11.2463 - lr: 7.9433e-08\n",
            "Epoch 20/100\n",
            "31/31 [==============================] - 0s 10ms/step - loss: 11.0156 - lr: 8.9125e-08\n",
            "Epoch 21/100\n",
            "31/31 [==============================] - 0s 9ms/step - loss: 10.7690 - lr: 1.0000e-07\n",
            "Epoch 22/100\n",
            "31/31 [==============================] - 0s 10ms/step - loss: 10.5175 - lr: 1.1220e-07\n",
            "Epoch 23/100\n",
            "31/31 [==============================] - 0s 9ms/step - loss: 10.2501 - lr: 1.2589e-07\n",
            "Epoch 24/100\n",
            "31/31 [==============================] - 0s 10ms/step - loss: 9.9787 - lr: 1.4125e-07\n",
            "Epoch 25/100\n",
            "31/31 [==============================] - 0s 10ms/step - loss: 9.7049 - lr: 1.5849e-07\n",
            "Epoch 26/100\n",
            "31/31 [==============================] - 1s 14ms/step - loss: 9.4205 - lr: 1.7783e-07\n",
            "Epoch 27/100\n",
            "31/31 [==============================] - 1s 14ms/step - loss: 9.1678 - lr: 1.9953e-07\n",
            "Epoch 28/100\n",
            "31/31 [==============================] - 1s 13ms/step - loss: 8.9032 - lr: 2.2387e-07\n",
            "Epoch 29/100\n",
            "31/31 [==============================] - 1s 11ms/step - loss: 8.6286 - lr: 2.5119e-07\n",
            "Epoch 30/100\n",
            "31/31 [==============================] - 0s 10ms/step - loss: 8.3941 - lr: 2.8184e-07\n",
            "Epoch 31/100\n",
            "31/31 [==============================] - 0s 9ms/step - loss: 8.1683 - lr: 3.1623e-07\n",
            "Epoch 32/100\n",
            "31/31 [==============================] - 0s 10ms/step - loss: 7.9739 - lr: 3.5481e-07\n",
            "Epoch 33/100\n",
            "31/31 [==============================] - 0s 9ms/step - loss: 7.7972 - lr: 3.9811e-07\n",
            "Epoch 34/100\n",
            "31/31 [==============================] - 0s 10ms/step - loss: 7.6119 - lr: 4.4668e-07\n",
            "Epoch 35/100\n",
            "31/31 [==============================] - 0s 10ms/step - loss: 7.4779 - lr: 5.0119e-07\n",
            "Epoch 36/100\n",
            "31/31 [==============================] - 0s 9ms/step - loss: 7.2639 - lr: 5.6234e-07\n",
            "Epoch 37/100\n",
            "31/31 [==============================] - 0s 9ms/step - loss: 7.0760 - lr: 6.3096e-07\n",
            "Epoch 38/100\n",
            "31/31 [==============================] - 0s 10ms/step - loss: 6.8887 - lr: 7.0795e-07\n",
            "Epoch 39/100\n",
            "31/31 [==============================] - 0s 10ms/step - loss: 6.7671 - lr: 7.9433e-07\n",
            "Epoch 40/100\n",
            "31/31 [==============================] - 0s 9ms/step - loss: 6.6144 - lr: 8.9125e-07\n",
            "Epoch 41/100\n",
            "31/31 [==============================] - 0s 9ms/step - loss: 6.4650 - lr: 1.0000e-06\n",
            "Epoch 42/100\n",
            "31/31 [==============================] - 0s 10ms/step - loss: 6.3723 - lr: 1.1220e-06\n",
            "Epoch 43/100\n",
            "31/31 [==============================] - 0s 10ms/step - loss: 6.2359 - lr: 1.2589e-06\n",
            "Epoch 44/100\n",
            "31/31 [==============================] - 0s 9ms/step - loss: 6.1295 - lr: 1.4125e-06\n",
            "Epoch 45/100\n",
            "31/31 [==============================] - 0s 9ms/step - loss: 6.1025 - lr: 1.5849e-06\n",
            "Epoch 46/100\n",
            "31/31 [==============================] - 0s 10ms/step - loss: 6.0727 - lr: 1.7783e-06\n",
            "Epoch 47/100\n",
            "31/31 [==============================] - 0s 10ms/step - loss: 5.9427 - lr: 1.9953e-06\n",
            "Epoch 48/100\n",
            "31/31 [==============================] - 0s 9ms/step - loss: 5.7743 - lr: 2.2387e-06\n",
            "Epoch 49/100\n",
            "31/31 [==============================] - 0s 10ms/step - loss: 5.7325 - lr: 2.5119e-06\n",
            "Epoch 50/100\n",
            "31/31 [==============================] - 0s 10ms/step - loss: 5.5728 - lr: 2.8184e-06\n",
            "Epoch 51/100\n",
            "31/31 [==============================] - 1s 14ms/step - loss: 5.5244 - lr: 3.1623e-06\n",
            "Epoch 52/100\n",
            "31/31 [==============================] - 1s 13ms/step - loss: 5.6557 - lr: 3.5481e-06\n",
            "Epoch 53/100\n",
            "31/31 [==============================] - 1s 13ms/step - loss: 5.5004 - lr: 3.9811e-06\n",
            "Epoch 54/100\n",
            "31/31 [==============================] - 1s 15ms/step - loss: 5.3793 - lr: 4.4668e-06\n",
            "Epoch 55/100\n",
            "31/31 [==============================] - 0s 10ms/step - loss: 5.4686 - lr: 5.0119e-06\n",
            "Epoch 56/100\n",
            "31/31 [==============================] - 0s 10ms/step - loss: 5.2083 - lr: 5.6234e-06\n",
            "Epoch 57/100\n",
            "31/31 [==============================] - 0s 10ms/step - loss: 5.1913 - lr: 6.3096e-06\n",
            "Epoch 58/100\n",
            "31/31 [==============================] - 0s 10ms/step - loss: 5.0569 - lr: 7.0795e-06\n",
            "Epoch 59/100\n",
            "31/31 [==============================] - 0s 10ms/step - loss: 5.1556 - lr: 7.9433e-06\n",
            "Epoch 60/100\n",
            "31/31 [==============================] - 0s 10ms/step - loss: 4.9709 - lr: 8.9125e-06\n",
            "Epoch 61/100\n",
            "31/31 [==============================] - 0s 10ms/step - loss: 4.9559 - lr: 1.0000e-05\n",
            "Epoch 62/100\n",
            "31/31 [==============================] - 0s 9ms/step - loss: 4.9902 - lr: 1.1220e-05\n",
            "Epoch 63/100\n",
            "31/31 [==============================] - 0s 9ms/step - loss: 4.8585 - lr: 1.2589e-05\n",
            "Epoch 64/100\n",
            "31/31 [==============================] - 0s 9ms/step - loss: 5.1525 - lr: 1.4125e-05\n",
            "Epoch 65/100\n",
            "31/31 [==============================] - 0s 9ms/step - loss: 5.4399 - lr: 1.5849e-05\n",
            "Epoch 66/100\n",
            "31/31 [==============================] - 0s 9ms/step - loss: 5.4741 - lr: 1.7783e-05\n",
            "Epoch 67/100\n",
            "31/31 [==============================] - 0s 9ms/step - loss: 6.0253 - lr: 1.9953e-05\n",
            "Epoch 68/100\n",
            "31/31 [==============================] - 0s 10ms/step - loss: 5.1330 - lr: 2.2387e-05\n",
            "Epoch 69/100\n",
            "31/31 [==============================] - 0s 9ms/step - loss: 4.9307 - lr: 2.5119e-05\n",
            "Epoch 70/100\n",
            "31/31 [==============================] - 0s 10ms/step - loss: 5.2472 - lr: 2.8184e-05\n",
            "Epoch 71/100\n",
            "31/31 [==============================] - 0s 11ms/step - loss: 6.4446 - lr: 3.1623e-05\n",
            "Epoch 72/100\n",
            "31/31 [==============================] - 0s 10ms/step - loss: 5.7563 - lr: 3.5481e-05\n",
            "Epoch 73/100\n",
            "31/31 [==============================] - 0s 9ms/step - loss: 5.9794 - lr: 3.9811e-05\n",
            "Epoch 74/100\n",
            "31/31 [==============================] - 0s 9ms/step - loss: 5.5418 - lr: 4.4668e-05\n",
            "Epoch 75/100\n",
            "31/31 [==============================] - 0s 10ms/step - loss: 5.6695 - lr: 5.0119e-05\n",
            "Epoch 76/100\n",
            "31/31 [==============================] - 0s 13ms/step - loss: 6.2723 - lr: 5.6234e-05\n",
            "Epoch 77/100\n",
            "31/31 [==============================] - 1s 14ms/step - loss: 5.0276 - lr: 6.3096e-05\n",
            "Epoch 78/100\n",
            "31/31 [==============================] - 1s 13ms/step - loss: 6.1132 - lr: 7.0795e-05\n",
            "Epoch 79/100\n",
            "31/31 [==============================] - 1s 14ms/step - loss: 5.9737 - lr: 7.9433e-05\n",
            "Epoch 80/100\n",
            "31/31 [==============================] - 0s 10ms/step - loss: 7.2527 - lr: 8.9125e-05\n",
            "Epoch 81/100\n",
            "31/31 [==============================] - 0s 9ms/step - loss: 7.9115 - lr: 1.0000e-04\n",
            "Epoch 82/100\n",
            "31/31 [==============================] - 0s 10ms/step - loss: 5.6139 - lr: 1.1220e-04\n",
            "Epoch 83/100\n",
            "31/31 [==============================] - 0s 10ms/step - loss: 6.6495 - lr: 1.2589e-04\n",
            "Epoch 84/100\n",
            "31/31 [==============================] - 0s 9ms/step - loss: 7.1730 - lr: 1.4125e-04\n",
            "Epoch 85/100\n",
            "31/31 [==============================] - 0s 9ms/step - loss: 7.0566 - lr: 1.5849e-04\n",
            "Epoch 86/100\n",
            "31/31 [==============================] - 0s 9ms/step - loss: 5.6603 - lr: 1.7783e-04\n",
            "Epoch 87/100\n",
            "31/31 [==============================] - 0s 9ms/step - loss: 8.3582 - lr: 1.9953e-04\n",
            "Epoch 88/100\n",
            "31/31 [==============================] - 0s 10ms/step - loss: 6.7569 - lr: 2.2387e-04\n",
            "Epoch 89/100\n",
            "31/31 [==============================] - 0s 10ms/step - loss: 6.9808 - lr: 2.5119e-04\n",
            "Epoch 90/100\n",
            "31/31 [==============================] - 0s 9ms/step - loss: 7.5799 - lr: 2.8184e-04\n",
            "Epoch 91/100\n",
            "31/31 [==============================] - 0s 10ms/step - loss: 8.9925 - lr: 3.1623e-04\n",
            "Epoch 92/100\n",
            "31/31 [==============================] - 0s 10ms/step - loss: 8.5968 - lr: 3.5481e-04\n",
            "Epoch 93/100\n",
            "31/31 [==============================] - 0s 10ms/step - loss: 8.3947 - lr: 3.9811e-04\n",
            "Epoch 94/100\n",
            "31/31 [==============================] - 0s 9ms/step - loss: 9.3183 - lr: 4.4668e-04\n",
            "Epoch 95/100\n",
            "31/31 [==============================] - 0s 9ms/step - loss: 10.5042 - lr: 5.0119e-04\n",
            "Epoch 96/100\n",
            "31/31 [==============================] - 0s 10ms/step - loss: 9.5027 - lr: 5.6234e-04\n",
            "Epoch 97/100\n",
            "31/31 [==============================] - 0s 9ms/step - loss: 7.9369 - lr: 6.3096e-04\n",
            "Epoch 98/100\n",
            "31/31 [==============================] - 0s 10ms/step - loss: 10.0707 - lr: 7.0795e-04\n",
            "Epoch 99/100\n",
            "31/31 [==============================] - 0s 10ms/step - loss: 10.0458 - lr: 7.9433e-04\n",
            "Epoch 100/100\n",
            "31/31 [==============================] - 0s 9ms/step - loss: 9.6679 - lr: 8.9125e-04\n"
          ]
        }
      ],
      "source": [
        "# Set the learning rate scheduler\n",
        "lr_schedule = tf.keras.callbacks.LearningRateScheduler(\n",
        "    lambda epoch: 1e-8 * 10**(epoch / 20))\n",
        "\n",
        "# Initialize the optimizer\n",
        "optimizer = tf.keras.optimizers.SGD(momentum=0.9)\n",
        "\n",
        "# Set the training parameters\n",
        "model_tune.compile(loss=tf.keras.losses.Huber(), optimizer=optimizer)\n",
        "\n",
        "# Train the model\n",
        "history = model_tune.fit(dataset, epochs=100, callbacks=[lr_schedule])"
      ]
    },
    {
      "cell_type": "code",
      "execution_count": 10,
      "metadata": {
        "id": "AkBsrsXMzoWR",
        "colab": {
          "base_uri": "https://localhost:8080/",
          "height": 406
        },
        "outputId": "52957972-ac45-4673-b0e5-555bb1f70f0b"
      },
      "outputs": [
        {
          "output_type": "execute_result",
          "data": {
            "text/plain": [
              "(1e-08, 0.001, 0.0, 30.0)"
            ]
          },
          "metadata": {},
          "execution_count": 10
        },
        {
          "output_type": "display_data",
          "data": {
            "text/plain": [
              "<Figure size 720x432 with 1 Axes>"
            ],
            "image/png": "[encoded data removed]"
          },
          "metadata": {
            "needs_background": "light"
          }
        }
      ],
      "source": [
        "# Define the learning rate array\n",
        "lrs = 1e-8 * (10 ** (np.arange(100) / 20))\n",
        "\n",
        "# Set the figure size\n",
        "plt.figure(figsize=(10, 6))\n",
        "\n",
        "# Set the grid\n",
        "plt.grid(True)\n",
        "\n",
        "# Plot the loss in log scale\n",
        "plt.semilogx(lrs, history.history[\"loss\"])\n",
        "\n",
        "# Increase the tickmarks size\n",
        "plt.tick_params('both', length=10, width=1, which='both')\n",
        "\n",
        "# Set the plot boundaries\n",
        "plt.axis([1e-8, 1e-3, 0, 30])"
      ]
    },
    {
      "cell_type": "markdown",
      "metadata": {
        "id": "i-lKNp4pq_w8"
      },
      "source": [
        "## Train the Model\n",
        "\n",
        "You can then proceed to train the model with your chosen learning rate. \n",
        "\n",
        "*Tip: When experimenting and you find yourself running different iterations of a model, you may want to use the [`clear_session()`](https://www.tensorflow.org/api_docs/python/tf/keras/backend/clear_session) method to declutter memory used by Keras. This is added in the first line below.*\n"
      ]
    },
    {
      "cell_type": "code",
      "execution_count": 11,
      "metadata": {
        "id": "4uh-97bpLZCA",
        "colab": {
          "base_uri": "https://localhost:8080/"
        },
        "outputId": "1fd4f2cc-433f-415f-c971-11eaf301698f"
      },
      "outputs": [
        {
          "output_type": "stream",
          "name": "stdout",
          "text": [
            "Epoch 1/100\n",
            "31/31 [==============================] - 8s 11ms/step - loss: 36.4221 - mae: 36.9205\n",
            "Epoch 2/100\n",
            "31/31 [==============================] - 0s 10ms/step - loss: 16.6773 - mae: 17.1706\n",
            "Epoch 3/100\n",
            "31/31 [==============================] - 0s 10ms/step - loss: 14.5192 - mae: 15.0121\n",
            "Epoch 4/100\n",
            "31/31 [==============================] - 0s 10ms/step - loss: 13.1728 - mae: 13.6651\n",
            "Epoch 5/100\n",
            "31/31 [==============================] - 0s 10ms/step - loss: 11.9599 - mae: 12.4519\n",
            "Epoch 6/100\n",
            "31/31 [==============================] - 0s 10ms/step - loss: 10.7286 - mae: 11.2165\n",
            "Epoch 7/100\n",
            "31/31 [==============================] - 0s 10ms/step - loss: 9.5902 - mae: 10.0734\n",
            "Epoch 8/100\n",
            "31/31 [==============================] - 0s 12ms/step - loss: 8.7179 - mae: 9.2030\n",
            "Epoch 9/100\n",
            "31/31 [==============================] - 1s 14ms/step - loss: 8.1232 - mae: 8.6076\n",
            "Epoch 10/100\n",
            "31/31 [==============================] - 1s 14ms/step - loss: 7.7907 - mae: 8.2707\n",
            "Epoch 11/100\n",
            "31/31 [==============================] - 1s 14ms/step - loss: 7.5238 - mae: 8.0059\n",
            "Epoch 12/100\n",
            "31/31 [==============================] - 0s 10ms/step - loss: 7.3509 - mae: 7.8308\n",
            "Epoch 13/100\n",
            "31/31 [==============================] - 0s 10ms/step - loss: 7.1828 - mae: 7.6608\n",
            "Epoch 14/100\n",
            "31/31 [==============================] - 0s 9ms/step - loss: 7.1007 - mae: 7.5840\n",
            "Epoch 15/100\n",
            "31/31 [==============================] - 0s 10ms/step - loss: 6.9873 - mae: 7.4680\n",
            "Epoch 16/100\n",
            "31/31 [==============================] - 0s 10ms/step - loss: 6.9166 - mae: 7.3989\n",
            "Epoch 17/100\n",
            "31/31 [==============================] - 0s 9ms/step - loss: 6.7885 - mae: 7.2687\n",
            "Epoch 18/100\n",
            "31/31 [==============================] - 0s 10ms/step - loss: 6.7761 - mae: 7.2575\n",
            "Epoch 19/100\n",
            "31/31 [==============================] - 0s 10ms/step - loss: 6.6429 - mae: 7.1243\n",
            "Epoch 20/100\n",
            "31/31 [==============================] - 0s 10ms/step - loss: 6.4820 - mae: 6.9631\n",
            "Epoch 21/100\n",
            "31/31 [==============================] - 0s 10ms/step - loss: 6.3846 - mae: 6.8627\n",
            "Epoch 22/100\n",
            "31/31 [==============================] - 0s 9ms/step - loss: 6.2859 - mae: 6.7653\n",
            "Epoch 23/100\n",
            "31/31 [==============================] - 0s 10ms/step - loss: 6.2524 - mae: 6.7281\n",
            "Epoch 24/100\n",
            "31/31 [==============================] - 0s 11ms/step - loss: 6.1426 - mae: 6.6224\n",
            "Epoch 25/100\n",
            "31/31 [==============================] - 0s 10ms/step - loss: 6.0949 - mae: 6.5681\n",
            "Epoch 26/100\n",
            "31/31 [==============================] - 0s 10ms/step - loss: 6.3581 - mae: 6.8358\n",
            "Epoch 27/100\n",
            "31/31 [==============================] - 0s 10ms/step - loss: 5.9756 - mae: 6.4555\n",
            "Epoch 28/100\n",
            "31/31 [==============================] - 0s 10ms/step - loss: 5.9884 - mae: 6.4664\n",
            "Epoch 29/100\n",
            "31/31 [==============================] - 0s 10ms/step - loss: 6.0156 - mae: 6.4962\n",
            "Epoch 30/100\n",
            "31/31 [==============================] - 0s 10ms/step - loss: 5.8773 - mae: 6.3549\n",
            "Epoch 31/100\n",
            "31/31 [==============================] - 0s 10ms/step - loss: 5.8463 - mae: 6.3293\n",
            "Epoch 32/100\n",
            "31/31 [==============================] - 0s 11ms/step - loss: 5.7598 - mae: 6.2386\n",
            "Epoch 33/100\n",
            "31/31 [==============================] - 1s 15ms/step - loss: 5.7339 - mae: 6.2124\n",
            "Epoch 34/100\n",
            "31/31 [==============================] - 1s 14ms/step - loss: 5.6083 - mae: 6.0856\n",
            "Epoch 35/100\n",
            "31/31 [==============================] - 1s 13ms/step - loss: 5.5614 - mae: 6.0410\n",
            "Epoch 36/100\n",
            "31/31 [==============================] - 1s 14ms/step - loss: 5.5362 - mae: 6.0151\n",
            "Epoch 37/100\n",
            "31/31 [==============================] - 0s 10ms/step - loss: 5.5215 - mae: 5.9959\n",
            "Epoch 38/100\n",
            "31/31 [==============================] - 0s 10ms/step - loss: 5.4456 - mae: 5.9254\n",
            "Epoch 39/100\n",
            "31/31 [==============================] - 0s 9ms/step - loss: 5.4169 - mae: 5.8980\n",
            "Epoch 40/100\n",
            "31/31 [==============================] - 0s 10ms/step - loss: 5.4171 - mae: 5.8943\n",
            "Epoch 41/100\n",
            "31/31 [==============================] - 0s 10ms/step - loss: 5.4595 - mae: 5.9330\n",
            "Epoch 42/100\n",
            "31/31 [==============================] - 0s 10ms/step - loss: 5.4263 - mae: 5.9085\n",
            "Epoch 43/100\n",
            "31/31 [==============================] - 0s 11ms/step - loss: 5.2797 - mae: 5.7561\n",
            "Epoch 44/100\n",
            "31/31 [==============================] - 0s 10ms/step - loss: 5.2276 - mae: 5.7041\n",
            "Epoch 45/100\n",
            "31/31 [==============================] - 0s 10ms/step - loss: 5.2340 - mae: 5.7093\n",
            "Epoch 46/100\n",
            "31/31 [==============================] - 0s 10ms/step - loss: 5.1787 - mae: 5.6581\n",
            "Epoch 47/100\n",
            "31/31 [==============================] - 0s 10ms/step - loss: 5.2777 - mae: 5.7562\n",
            "Epoch 48/100\n",
            "31/31 [==============================] - 0s 11ms/step - loss: 5.1503 - mae: 5.6282\n",
            "Epoch 49/100\n",
            "31/31 [==============================] - 0s 10ms/step - loss: 5.1673 - mae: 5.6438\n",
            "Epoch 50/100\n",
            "31/31 [==============================] - 0s 9ms/step - loss: 5.0798 - mae: 5.5586\n",
            "Epoch 51/100\n",
            "31/31 [==============================] - 0s 10ms/step - loss: 5.0468 - mae: 5.5225\n",
            "Epoch 52/100\n",
            "31/31 [==============================] - 0s 10ms/step - loss: 5.0043 - mae: 5.4836\n",
            "Epoch 53/100\n",
            "31/31 [==============================] - 0s 10ms/step - loss: 5.0402 - mae: 5.5144\n",
            "Epoch 54/100\n",
            "31/31 [==============================] - 0s 10ms/step - loss: 5.0361 - mae: 5.5146\n",
            "Epoch 55/100\n",
            "31/31 [==============================] - 0s 10ms/step - loss: 4.9895 - mae: 5.4681\n",
            "Epoch 56/100\n",
            "31/31 [==============================] - 0s 10ms/step - loss: 4.8996 - mae: 5.3757\n",
            "Epoch 57/100\n",
            "31/31 [==============================] - 0s 10ms/step - loss: 4.9694 - mae: 5.4466\n",
            "Epoch 58/100\n",
            "31/31 [==============================] - 0s 10ms/step - loss: 4.8585 - mae: 5.3334\n",
            "Epoch 59/100\n",
            "31/31 [==============================] - 0s 10ms/step - loss: 4.9619 - mae: 5.4382\n",
            "Epoch 60/100\n",
            "31/31 [==============================] - 1s 14ms/step - loss: 4.9304 - mae: 5.4044\n",
            "Epoch 61/100\n",
            "31/31 [==============================] - 1s 14ms/step - loss: 4.8656 - mae: 5.3427\n",
            "Epoch 62/100\n",
            "31/31 [==============================] - 1s 14ms/step - loss: 4.8609 - mae: 5.3378\n",
            "Epoch 63/100\n",
            "31/31 [==============================] - 0s 10ms/step - loss: 4.8153 - mae: 5.2917\n",
            "Epoch 64/100\n",
            "31/31 [==============================] - 0s 10ms/step - loss: 4.8368 - mae: 5.3161\n",
            "Epoch 65/100\n",
            "31/31 [==============================] - 0s 11ms/step - loss: 4.7876 - mae: 5.2626\n",
            "Epoch 66/100\n",
            "31/31 [==============================] - 0s 10ms/step - loss: 4.7566 - mae: 5.2340\n",
            "Epoch 67/100\n",
            "31/31 [==============================] - 0s 10ms/step - loss: 4.7223 - mae: 5.1979\n",
            "Epoch 68/100\n",
            "31/31 [==============================] - 0s 10ms/step - loss: 4.7335 - mae: 5.2109\n",
            "Epoch 69/100\n",
            "31/31 [==============================] - 0s 10ms/step - loss: 4.7204 - mae: 5.1957\n",
            "Epoch 70/100\n",
            "31/31 [==============================] - 0s 10ms/step - loss: 4.7544 - mae: 5.2363\n",
            "Epoch 71/100\n",
            "31/31 [==============================] - 0s 10ms/step - loss: 4.8126 - mae: 5.2844\n",
            "Epoch 72/100\n",
            "31/31 [==============================] - 0s 10ms/step - loss: 4.8312 - mae: 5.3046\n",
            "Epoch 73/100\n",
            "31/31 [==============================] - 0s 10ms/step - loss: 4.9292 - mae: 5.4080\n",
            "Epoch 74/100\n",
            "31/31 [==============================] - 0s 10ms/step - loss: 4.6496 - mae: 5.1248\n",
            "Epoch 75/100\n",
            "31/31 [==============================] - 0s 10ms/step - loss: 4.7786 - mae: 5.2548\n",
            "Epoch 76/100\n",
            "31/31 [==============================] - 0s 10ms/step - loss: 4.6730 - mae: 5.1484\n",
            "Epoch 77/100\n",
            "31/31 [==============================] - 0s 10ms/step - loss: 4.7018 - mae: 5.1813\n",
            "Epoch 78/100\n",
            "31/31 [==============================] - 0s 10ms/step - loss: 4.7560 - mae: 5.2351\n",
            "Epoch 79/100\n",
            "31/31 [==============================] - 0s 10ms/step - loss: 4.6156 - mae: 5.0918\n",
            "Epoch 80/100\n",
            "31/31 [==============================] - 0s 10ms/step - loss: 4.6542 - mae: 5.1300\n",
            "Epoch 81/100\n",
            "31/31 [==============================] - 0s 10ms/step - loss: 4.6113 - mae: 5.0901\n",
            "Epoch 82/100\n",
            "31/31 [==============================] - 0s 10ms/step - loss: 4.6215 - mae: 5.0921\n",
            "Epoch 83/100\n",
            "31/31 [==============================] - 0s 10ms/step - loss: 4.7492 - mae: 5.2211\n",
            "Epoch 84/100\n",
            "31/31 [==============================] - 0s 12ms/step - loss: 4.6818 - mae: 5.1586\n",
            "Epoch 85/100\n",
            "31/31 [==============================] - 1s 14ms/step - loss: 4.6541 - mae: 5.1312\n",
            "Epoch 86/100\n",
            "31/31 [==============================] - 1s 14ms/step - loss: 4.8182 - mae: 5.2945\n",
            "Epoch 87/100\n",
            "31/31 [==============================] - 1s 14ms/step - loss: 4.6592 - mae: 5.1374\n",
            "Epoch 88/100\n",
            "31/31 [==============================] - 0s 10ms/step - loss: 4.7035 - mae: 5.1798\n",
            "Epoch 89/100\n",
            "31/31 [==============================] - 0s 9ms/step - loss: 4.6166 - mae: 5.0897\n",
            "Epoch 90/100\n",
            "31/31 [==============================] - 0s 10ms/step - loss: 4.6538 - mae: 5.1270\n",
            "Epoch 91/100\n",
            "31/31 [==============================] - 0s 10ms/step - loss: 4.6277 - mae: 5.1020\n",
            "Epoch 92/100\n",
            "31/31 [==============================] - 0s 10ms/step - loss: 4.5909 - mae: 5.0631\n",
            "Epoch 93/100\n",
            "31/31 [==============================] - 0s 10ms/step - loss: 4.5420 - mae: 5.0161\n",
            "Epoch 94/100\n",
            "31/31 [==============================] - 0s 10ms/step - loss: 4.5589 - mae: 5.0350\n",
            "Epoch 95/100\n",
            "31/31 [==============================] - 0s 10ms/step - loss: 4.5880 - mae: 5.0673\n",
            "Epoch 96/100\n",
            "31/31 [==============================] - 0s 10ms/step - loss: 4.5586 - mae: 5.0343\n",
            "Epoch 97/100\n",
            "31/31 [==============================] - 0s 11ms/step - loss: 4.6012 - mae: 5.0773\n",
            "Epoch 98/100\n",
            "31/31 [==============================] - 0s 10ms/step - loss: 5.0673 - mae: 5.5460\n",
            "Epoch 99/100\n",
            "31/31 [==============================] - 0s 10ms/step - loss: 4.6645 - mae: 5.1403\n",
            "Epoch 100/100\n",
            "31/31 [==============================] - 0s 10ms/step - loss: 4.6497 - mae: 5.1218\n"
          ]
        }
      ],
      "source": [
        "# Reset states generated by Keras\n",
        "tf.keras.backend.clear_session()\n",
        "\n",
        "# Build the model\n",
        "model = tf.keras.models.Sequential([\n",
        "  tf.keras.layers.Lambda(lambda x: tf.expand_dims(x, axis=-1),\n",
        "                      input_shape=[None]),\n",
        "   tf.keras.layers.Bidirectional(tf.keras.layers.LSTM(32, return_sequences=True)),\n",
        "  tf.keras.layers.Bidirectional(tf.keras.layers.LSTM(32)),\n",
        "  tf.keras.layers.Dense(1),\n",
        "  tf.keras.layers.Lambda(lambda x: x * 100.0)\n",
        "])\n",
        "\n",
        "# Set the learning rate\n",
        "learning_rate = 2e-6\n",
        "\n",
        "# Set the optimizer \n",
        "optimizer = tf.keras.optimizers.SGD(learning_rate=learning_rate, momentum=0.9)\n",
        "\n",
        "# Set the training parameters\n",
        "model.compile(loss=tf.keras.losses.Huber(),\n",
        "              optimizer=optimizer,\n",
        "              metrics=[\"mae\"])\n",
        "\n",
        "# Train the model\n",
        "history = model.fit(dataset,epochs=100)"
      ]
    },
    {
      "cell_type": "markdown",
      "metadata": {
        "id": "RjP4kbGiI7cw"
      },
      "source": [
        "## Model Prediction\n",
        "\n",
        "You will then generate batches of windows to generate predictions that align with the validation set."
      ]
    },
    {
      "cell_type": "code",
      "execution_count": 12,
      "metadata": {
        "id": "QO8cfKwKBBG6"
      },
      "outputs": [],
      "source": [
        "def model_forecast(model, series, window_size, batch_size):\n",
        "    \"\"\"Uses an input model to generate predictions on data windows\n",
        "\n",
        "    Args:\n",
        "      model (TF Keras Model) - model that accepts data windows\n",
        "      series (array of float) - contains the values of the time series\n",
        "      window_size (int) - the number of time steps to include in the window\n",
        "      batch_size (int) - the batch size\n",
        "\n",
        "    Returns:\n",
        "      forecast (numpy array) - array containing predictions\n",
        "    \"\"\"\n",
        "\n",
        "    # Generate a TF Dataset from the series values\n",
        "    dataset = tf.data.Dataset.from_tensor_slices(series)\n",
        "\n",
        "    # Window the data but only take those with the specified size\n",
        "    dataset = dataset.window(window_size, shift=1, drop_remainder=True)\n",
        "\n",
        "    # Flatten the windows by putting its elements in a single batch\n",
        "    dataset = dataset.flat_map(lambda w: w.batch(window_size))\n",
        "    \n",
        "    # Create batches of windows\n",
        "    dataset = dataset.batch(batch_size).prefetch(1)\n",
        "    \n",
        "    # Get predictions on the entire dataset\n",
        "    forecast = model.predict(dataset)\n",
        "    \n",
        "    return forecast"
      ]
    },
    {
      "cell_type": "code",
      "execution_count": 13,
      "metadata": {
        "id": "_plB3UseBD8o",
        "colab": {
          "base_uri": "https://localhost:8080/",
          "height": 406
        },
        "outputId": "838e09a5-ac3d-43c4-eaae-9c72e6a73deb"
      },
      "outputs": [
        {
          "output_type": "stream",
          "name": "stdout",
          "text": [
            "15/15 [==============================] - 1s 9ms/step\n"
          ]
        },
        {
          "output_type": "display_data",
          "data": {
            "text/plain": [
              "<Figure size 720x432 with 1 Axes>"
            ],
            "image/png": "[encoded data removed]"
          },
          "metadata": {
            "needs_background": "light"
          }
        }
      ],
      "source": [
        "# Reduce the original series\n",
        "forecast_series = series[split_time-window_size:-1]\n",
        "\n",
        "# Use helper function to generate predictions\n",
        "forecast = model_forecast(model, forecast_series, window_size, batch_size)\n",
        "\n",
        "# Drop single dimensional axis\n",
        "results = forecast.squeeze()\n",
        "\n",
        "# Plot the results\n",
        "plot_series(time_valid, (x_valid, results))"
      ]
    },
    {
      "cell_type": "markdown",
      "metadata": {
        "id": "Nn8iSQkZtaRC"
      },
      "source": [
        "You can then generate the metrics to evaluate the model's performance."
      ]
    },
    {
      "cell_type": "code",
      "execution_count": 14,
      "metadata": {
        "id": "-IKhueZaBGID",
        "colab": {
          "base_uri": "https://localhost:8080/"
        },
        "outputId": "fbf4de8c-0958-43aa-8f2c-b07c7aa9191b"
      },
      "outputs": [
        {
          "output_type": "stream",
          "name": "stdout",
          "text": [
            "97.12548\n",
            "7.2161427\n"
          ]
        }
      ],
      "source": [
        "# Compute the MSE and MAE\n",
        "print(tf.keras.metrics.mean_squared_error(x_valid, results).numpy())\n",
        "print(tf.keras.metrics.mean_absolute_error(x_valid, results).numpy())"
      ]
    },
    {
      "cell_type": "markdown",
      "metadata": {
        "id": "bzPIqeMWvbPy"
      },
      "source": [
        "## Wrap Up\n",
        "\n",
        "This concludes this short exercise on using LSTMs for time series forecasting. Next week, you will build upon this and add convolutions. Then, you will start to move away from synthetic data and use real-world datasets. See you there!"
      ]
    },
    {
      "cell_type": "markdown",
      "metadata": {
        "id": "U5PqTePGHeMH"
      },
      "source": [
        "## Optional: Including a Validation Set while Training\n",
        "\n",
        "Back in the first course of this specialization, you saw how you can also monitor the performance of your model against a validation set while training. You can also do that for this lab. \n",
        "\n",
        "First, you need to generate a `val_set` which are data windows and labels that your model can accept. You can simply reuse the `windowed_dataset` function for that and you can pass in the `x_valid` points to generate the windows."
      ]
    },
    {
      "cell_type": "code",
      "execution_count": 15,
      "metadata": {
        "id": "kvFVwL3PC4iX"
      },
      "outputs": [],
      "source": [
        "# Generate data windows of the validation set\n",
        "val_set = windowed_dataset(x_valid, window_size, batch_size, shuffle_buffer_size)"
      ]
    },
    {
      "cell_type": "markdown",
      "metadata": {
        "id": "p68j6XxEvP9K"
      },
      "source": [
        "You can then do the same training as before but pass in the `val_set` to the `validation_data` parameter of the `fit()` method."
      ]
    },
    {
      "cell_type": "code",
      "execution_count": 16,
      "metadata": {
        "id": "wujKz6tXDSn0",
        "colab": {
          "base_uri": "https://localhost:8080/"
        },
        "outputId": "30bc9657-4006-4cda-f091-e8352ee78578"
      },
      "outputs": [
        {
          "output_type": "stream",
          "name": "stdout",
          "text": [
            "Epoch 1/100\n",
            "31/31 [==============================] - 8s 67ms/step - loss: 16.4327 - mae: 16.9244 - val_loss: 30.5021 - val_mae: 30.9994\n",
            "Epoch 2/100\n",
            "31/31 [==============================] - 0s 13ms/step - loss: 11.7642 - mae: 12.2534 - val_loss: 23.3121 - val_mae: 23.8099\n",
            "Epoch 3/100\n",
            "31/31 [==============================] - 1s 14ms/step - loss: 8.4027 - mae: 8.8872 - val_loss: 16.7969 - val_mae: 17.2932\n",
            "Epoch 4/100\n",
            "31/31 [==============================] - 0s 13ms/step - loss: 7.4222 - mae: 7.9039 - val_loss: 13.7392 - val_mae: 14.2328\n",
            "Epoch 5/100\n",
            "31/31 [==============================] - 1s 14ms/step - loss: 6.7945 - mae: 7.2709 - val_loss: 11.4925 - val_mae: 11.9863\n",
            "Epoch 6/100\n",
            "31/31 [==============================] - 1s 14ms/step - loss: 6.7087 - mae: 7.1903 - val_loss: 13.6167 - val_mae: 14.1112\n",
            "Epoch 7/100\n",
            "31/31 [==============================] - 1s 14ms/step - loss: 6.4868 - mae: 6.9641 - val_loss: 10.6098 - val_mae: 11.1010\n",
            "Epoch 8/100\n",
            "31/31 [==============================] - 1s 14ms/step - loss: 6.3762 - mae: 6.8572 - val_loss: 9.7629 - val_mae: 10.2534\n",
            "Epoch 9/100\n",
            "31/31 [==============================] - 0s 13ms/step - loss: 6.1656 - mae: 6.6464 - val_loss: 9.6153 - val_mae: 10.1062\n",
            "Epoch 10/100\n",
            "31/31 [==============================] - 0s 13ms/step - loss: 6.1022 - mae: 6.5851 - val_loss: 10.9065 - val_mae: 11.3999\n",
            "Epoch 11/100\n",
            "31/31 [==============================] - 1s 19ms/step - loss: 6.2008 - mae: 6.6848 - val_loss: 10.3811 - val_mae: 10.8698\n",
            "Epoch 12/100\n",
            "31/31 [==============================] - 1s 23ms/step - loss: 5.8697 - mae: 6.3513 - val_loss: 10.3895 - val_mae: 10.8820\n",
            "Epoch 13/100\n",
            "31/31 [==============================] - 1s 14ms/step - loss: 5.8642 - mae: 6.3487 - val_loss: 9.3272 - val_mae: 9.8158\n",
            "Epoch 14/100\n",
            "31/31 [==============================] - 1s 14ms/step - loss: 5.7060 - mae: 6.1869 - val_loss: 9.0358 - val_mae: 9.5220\n",
            "Epoch 15/100\n",
            "31/31 [==============================] - 1s 14ms/step - loss: 5.7310 - mae: 6.2149 - val_loss: 9.4154 - val_mae: 9.9037\n",
            "Epoch 16/100\n",
            "31/31 [==============================] - 1s 13ms/step - loss: 5.6241 - mae: 6.1022 - val_loss: 10.4475 - val_mae: 10.9411\n",
            "Epoch 17/100\n",
            "31/31 [==============================] - 1s 14ms/step - loss: 5.6197 - mae: 6.1038 - val_loss: 8.2721 - val_mae: 8.7589\n",
            "Epoch 18/100\n",
            "31/31 [==============================] - 1s 14ms/step - loss: 5.5069 - mae: 5.9877 - val_loss: 8.6000 - val_mae: 9.0855\n",
            "Epoch 19/100\n",
            "31/31 [==============================] - 1s 14ms/step - loss: 5.4707 - mae: 5.9506 - val_loss: 8.2704 - val_mae: 8.7585\n",
            "Epoch 20/100\n",
            "31/31 [==============================] - 1s 14ms/step - loss: 5.3977 - mae: 5.8771 - val_loss: 8.5194 - val_mae: 9.0034\n",
            "Epoch 21/100\n",
            "31/31 [==============================] - 1s 14ms/step - loss: 5.3119 - mae: 5.7882 - val_loss: 7.6419 - val_mae: 8.1246\n",
            "Epoch 22/100\n",
            "31/31 [==============================] - 0s 13ms/step - loss: 5.3039 - mae: 5.7808 - val_loss: 8.6279 - val_mae: 9.1147\n",
            "Epoch 23/100\n",
            "31/31 [==============================] - 1s 14ms/step - loss: 5.2179 - mae: 5.6940 - val_loss: 9.1096 - val_mae: 9.5975\n",
            "Epoch 24/100\n",
            "31/31 [==============================] - 0s 13ms/step - loss: 5.2075 - mae: 5.6885 - val_loss: 7.8581 - val_mae: 8.3457\n",
            "Epoch 25/100\n",
            "31/31 [==============================] - 1s 14ms/step - loss: 5.1772 - mae: 5.6546 - val_loss: 8.3799 - val_mae: 8.8668\n",
            "Epoch 26/100\n",
            "31/31 [==============================] - 1s 14ms/step - loss: 5.1354 - mae: 5.6115 - val_loss: 7.3638 - val_mae: 7.8499\n",
            "Epoch 27/100\n",
            "31/31 [==============================] - 1s 14ms/step - loss: 5.0877 - mae: 5.5609 - val_loss: 7.1563 - val_mae: 7.6435\n",
            "Epoch 28/100\n",
            "31/31 [==============================] - 1s 13ms/step - loss: 5.0810 - mae: 5.5589 - val_loss: 7.2785 - val_mae: 7.7654\n",
            "Epoch 29/100\n",
            "31/31 [==============================] - 1s 15ms/step - loss: 5.0643 - mae: 5.5434 - val_loss: 7.7218 - val_mae: 8.2078\n",
            "Epoch 30/100\n",
            "31/31 [==============================] - 0s 13ms/step - loss: 5.0247 - mae: 5.5052 - val_loss: 7.7342 - val_mae: 8.2212\n",
            "Epoch 31/100\n",
            "31/31 [==============================] - 1s 17ms/step - loss: 5.0179 - mae: 5.4926 - val_loss: 7.7187 - val_mae: 8.2061\n",
            "Epoch 32/100\n",
            "31/31 [==============================] - 1s 21ms/step - loss: 4.9757 - mae: 5.4531 - val_loss: 6.9544 - val_mae: 7.4409\n",
            "Epoch 33/100\n",
            "31/31 [==============================] - 1s 25ms/step - loss: 4.9560 - mae: 5.4372 - val_loss: 8.0695 - val_mae: 8.5558\n",
            "Epoch 34/100\n",
            "31/31 [==============================] - 0s 13ms/step - loss: 4.9626 - mae: 5.4425 - val_loss: 8.1354 - val_mae: 8.6220\n",
            "Epoch 35/100\n",
            "31/31 [==============================] - 1s 14ms/step - loss: 4.9182 - mae: 5.3980 - val_loss: 6.9975 - val_mae: 7.4797\n",
            "Epoch 36/100\n",
            "31/31 [==============================] - 1s 14ms/step - loss: 4.9255 - mae: 5.4031 - val_loss: 7.4912 - val_mae: 7.9742\n",
            "Epoch 37/100\n",
            "31/31 [==============================] - 1s 14ms/step - loss: 4.9139 - mae: 5.3971 - val_loss: 6.8971 - val_mae: 7.3777\n",
            "Epoch 38/100\n",
            "31/31 [==============================] - 1s 13ms/step - loss: 4.8641 - mae: 5.3399 - val_loss: 6.7396 - val_mae: 7.2241\n",
            "Epoch 39/100\n",
            "31/31 [==============================] - 1s 14ms/step - loss: 4.8556 - mae: 5.3306 - val_loss: 7.2488 - val_mae: 7.7294\n",
            "Epoch 40/100\n",
            "31/31 [==============================] - 1s 14ms/step - loss: 4.8866 - mae: 5.3630 - val_loss: 7.1975 - val_mae: 7.6793\n",
            "Epoch 41/100\n",
            "31/31 [==============================] - 1s 14ms/step - loss: 4.8473 - mae: 5.3193 - val_loss: 7.1156 - val_mae: 7.6000\n",
            "Epoch 42/100\n",
            "31/31 [==============================] - 1s 14ms/step - loss: 4.8159 - mae: 5.2933 - val_loss: 7.8320 - val_mae: 8.3207\n",
            "Epoch 43/100\n",
            "31/31 [==============================] - 1s 14ms/step - loss: 4.8453 - mae: 5.3211 - val_loss: 7.0046 - val_mae: 7.4876\n",
            "Epoch 44/100\n",
            "31/31 [==============================] - 1s 14ms/step - loss: 4.8029 - mae: 5.2809 - val_loss: 6.8132 - val_mae: 7.2939\n",
            "Epoch 45/100\n",
            "31/31 [==============================] - 1s 15ms/step - loss: 4.7604 - mae: 5.2348 - val_loss: 6.8909 - val_mae: 7.3734\n",
            "Epoch 46/100\n",
            "31/31 [==============================] - 1s 14ms/step - loss: 4.7349 - mae: 5.2116 - val_loss: 6.2688 - val_mae: 6.7530\n",
            "Epoch 47/100\n",
            "31/31 [==============================] - 1s 14ms/step - loss: 4.7989 - mae: 5.2767 - val_loss: 6.6932 - val_mae: 7.1750\n",
            "Epoch 48/100\n",
            "31/31 [==============================] - 1s 14ms/step - loss: 4.7691 - mae: 5.2497 - val_loss: 6.5278 - val_mae: 7.0142\n",
            "Epoch 49/100\n",
            "31/31 [==============================] - 1s 14ms/step - loss: 4.7449 - mae: 5.2255 - val_loss: 7.1433 - val_mae: 7.6208\n",
            "Epoch 50/100\n",
            "31/31 [==============================] - 1s 14ms/step - loss: 4.7295 - mae: 5.2069 - val_loss: 6.3465 - val_mae: 6.8278\n",
            "Epoch 51/100\n",
            "31/31 [==============================] - 1s 17ms/step - loss: 4.6576 - mae: 5.1351 - val_loss: 5.9348 - val_mae: 6.4159\n",
            "Epoch 52/100\n",
            "31/31 [==============================] - 1s 20ms/step - loss: 4.7539 - mae: 5.2330 - val_loss: 6.2753 - val_mae: 6.7563\n",
            "Epoch 53/100\n",
            "31/31 [==============================] - 1s 25ms/step - loss: 4.7868 - mae: 5.2636 - val_loss: 7.2221 - val_mae: 7.6993\n",
            "Epoch 54/100\n",
            "31/31 [==============================] - 1s 13ms/step - loss: 4.6864 - mae: 5.1653 - val_loss: 6.0242 - val_mae: 6.5061\n",
            "Epoch 55/100\n",
            "31/31 [==============================] - 1s 14ms/step - loss: 4.6755 - mae: 5.1543 - val_loss: 5.8854 - val_mae: 6.3667\n",
            "Epoch 56/100\n",
            "31/31 [==============================] - 1s 14ms/step - loss: 4.7514 - mae: 5.2290 - val_loss: 5.9803 - val_mae: 6.4616\n",
            "Epoch 57/100\n",
            "31/31 [==============================] - 1s 14ms/step - loss: 4.6944 - mae: 5.1718 - val_loss: 6.3158 - val_mae: 6.7982\n",
            "Epoch 58/100\n",
            "31/31 [==============================] - 0s 13ms/step - loss: 4.6736 - mae: 5.1490 - val_loss: 6.9359 - val_mae: 7.4148\n",
            "Epoch 59/100\n",
            "31/31 [==============================] - 1s 13ms/step - loss: 4.6175 - mae: 5.0983 - val_loss: 7.0076 - val_mae: 7.4873\n",
            "Epoch 60/100\n",
            "31/31 [==============================] - 1s 13ms/step - loss: 4.6846 - mae: 5.1616 - val_loss: 5.9773 - val_mae: 6.4586\n",
            "Epoch 61/100\n",
            "31/31 [==============================] - 1s 14ms/step - loss: 4.6359 - mae: 5.1093 - val_loss: 5.9071 - val_mae: 6.3857\n",
            "Epoch 62/100\n",
            "31/31 [==============================] - 1s 14ms/step - loss: 4.6316 - mae: 5.1077 - val_loss: 6.3243 - val_mae: 6.8068\n",
            "Epoch 63/100\n",
            "31/31 [==============================] - 1s 14ms/step - loss: 4.6372 - mae: 5.1173 - val_loss: 6.8898 - val_mae: 7.3731\n",
            "Epoch 64/100\n",
            "31/31 [==============================] - 1s 14ms/step - loss: 4.6134 - mae: 5.0915 - val_loss: 5.8234 - val_mae: 6.3067\n",
            "Epoch 65/100\n",
            "31/31 [==============================] - 1s 13ms/step - loss: 4.6354 - mae: 5.1110 - val_loss: 7.2401 - val_mae: 7.7258\n",
            "Epoch 66/100\n",
            "31/31 [==============================] - 1s 14ms/step - loss: 4.6170 - mae: 5.0964 - val_loss: 6.1499 - val_mae: 6.6300\n",
            "Epoch 67/100\n",
            "31/31 [==============================] - 0s 13ms/step - loss: 4.5895 - mae: 5.0683 - val_loss: 6.6877 - val_mae: 7.1665\n",
            "Epoch 68/100\n",
            "31/31 [==============================] - 1s 13ms/step - loss: 4.6662 - mae: 5.1471 - val_loss: 6.7992 - val_mae: 7.2788\n",
            "Epoch 69/100\n",
            "31/31 [==============================] - 1s 14ms/step - loss: 4.6434 - mae: 5.1249 - val_loss: 5.8340 - val_mae: 6.3112\n",
            "Epoch 70/100\n",
            "31/31 [==============================] - 1s 14ms/step - loss: 4.5669 - mae: 5.0454 - val_loss: 6.3811 - val_mae: 6.8634\n",
            "Epoch 71/100\n",
            "31/31 [==============================] - 1s 13ms/step - loss: 4.5737 - mae: 5.0479 - val_loss: 6.4580 - val_mae: 6.9373\n",
            "Epoch 72/100\n",
            "31/31 [==============================] - 1s 24ms/step - loss: 4.5647 - mae: 5.0402 - val_loss: 5.9168 - val_mae: 6.4022\n",
            "Epoch 73/100\n",
            "31/31 [==============================] - 1s 21ms/step - loss: 4.5392 - mae: 5.0190 - val_loss: 6.8389 - val_mae: 7.3219\n",
            "Epoch 74/100\n",
            "31/31 [==============================] - 1s 13ms/step - loss: 4.5242 - mae: 5.0002 - val_loss: 5.7055 - val_mae: 6.1826\n",
            "Epoch 75/100\n",
            "31/31 [==============================] - 1s 14ms/step - loss: 4.6679 - mae: 5.1445 - val_loss: 6.9295 - val_mae: 7.4124\n",
            "Epoch 76/100\n",
            "31/31 [==============================] - 1s 13ms/step - loss: 4.6184 - mae: 5.0985 - val_loss: 6.9169 - val_mae: 7.4006\n",
            "Epoch 77/100\n",
            "31/31 [==============================] - 1s 15ms/step - loss: 4.6224 - mae: 5.1005 - val_loss: 5.8920 - val_mae: 6.3779\n",
            "Epoch 78/100\n",
            "31/31 [==============================] - 0s 13ms/step - loss: 4.5007 - mae: 4.9756 - val_loss: 6.0506 - val_mae: 6.5271\n",
            "Epoch 79/100\n",
            "31/31 [==============================] - 1s 14ms/step - loss: 4.6640 - mae: 5.1370 - val_loss: 5.8967 - val_mae: 6.3797\n",
            "Epoch 80/100\n",
            "31/31 [==============================] - 1s 14ms/step - loss: 4.5332 - mae: 5.0140 - val_loss: 5.7521 - val_mae: 6.2366\n",
            "Epoch 81/100\n",
            "31/31 [==============================] - 1s 15ms/step - loss: 4.5206 - mae: 4.9965 - val_loss: 6.0574 - val_mae: 6.5335\n",
            "Epoch 82/100\n",
            "31/31 [==============================] - 1s 13ms/step - loss: 4.4959 - mae: 4.9734 - val_loss: 5.8747 - val_mae: 6.3570\n",
            "Epoch 83/100\n",
            "31/31 [==============================] - 1s 14ms/step - loss: 4.4889 - mae: 4.9667 - val_loss: 5.5960 - val_mae: 6.0743\n",
            "Epoch 84/100\n",
            "31/31 [==============================] - 1s 14ms/step - loss: 4.4844 - mae: 4.9630 - val_loss: 6.1906 - val_mae: 6.6681\n",
            "Epoch 85/100\n",
            "31/31 [==============================] - 1s 14ms/step - loss: 4.5494 - mae: 5.0275 - val_loss: 5.8309 - val_mae: 6.3103\n",
            "Epoch 86/100\n",
            "31/31 [==============================] - 1s 15ms/step - loss: 4.4786 - mae: 4.9540 - val_loss: 5.6798 - val_mae: 6.1614\n",
            "Epoch 87/100\n",
            "31/31 [==============================] - 0s 13ms/step - loss: 4.4607 - mae: 4.9384 - val_loss: 5.6033 - val_mae: 6.0856\n",
            "Epoch 88/100\n",
            "31/31 [==============================] - 1s 14ms/step - loss: 4.5061 - mae: 4.9819 - val_loss: 5.7630 - val_mae: 6.2493\n",
            "Epoch 89/100\n",
            "31/31 [==============================] - 0s 13ms/step - loss: 4.5270 - mae: 5.0066 - val_loss: 5.8611 - val_mae: 6.3393\n",
            "Epoch 90/100\n",
            "31/31 [==============================] - 1s 13ms/step - loss: 4.5571 - mae: 5.0343 - val_loss: 5.7119 - val_mae: 6.1961\n",
            "Epoch 91/100\n",
            "31/31 [==============================] - 1s 24ms/step - loss: 4.4867 - mae: 4.9617 - val_loss: 5.9379 - val_mae: 6.4156\n",
            "Epoch 92/100\n",
            "31/31 [==============================] - 1s 25ms/step - loss: 4.4658 - mae: 4.9443 - val_loss: 5.5917 - val_mae: 6.0757\n",
            "Epoch 93/100\n",
            "31/31 [==============================] - 1s 14ms/step - loss: 4.4725 - mae: 4.9490 - val_loss: 5.4231 - val_mae: 5.9003\n",
            "Epoch 94/100\n",
            "31/31 [==============================] - 1s 14ms/step - loss: 4.5459 - mae: 5.0243 - val_loss: 5.5034 - val_mae: 5.9826\n",
            "Epoch 95/100\n",
            "31/31 [==============================] - 1s 14ms/step - loss: 4.4964 - mae: 4.9743 - val_loss: 5.6564 - val_mae: 6.1410\n",
            "Epoch 96/100\n",
            "31/31 [==============================] - 1s 14ms/step - loss: 4.4631 - mae: 4.9375 - val_loss: 5.4793 - val_mae: 5.9598\n",
            "Epoch 97/100\n",
            "31/31 [==============================] - 1s 14ms/step - loss: 4.4318 - mae: 4.9058 - val_loss: 5.4452 - val_mae: 5.9256\n",
            "Epoch 98/100\n",
            "31/31 [==============================] - 1s 14ms/step - loss: 4.5706 - mae: 5.0488 - val_loss: 5.7519 - val_mae: 6.2310\n",
            "Epoch 99/100\n",
            "31/31 [==============================] - 1s 14ms/step - loss: 4.7659 - mae: 5.2446 - val_loss: 5.4863 - val_mae: 5.9631\n",
            "Epoch 100/100\n",
            "31/31 [==============================] - 1s 14ms/step - loss: 4.5207 - mae: 4.9964 - val_loss: 5.6981 - val_mae: 6.1833\n"
          ]
        }
      ],
      "source": [
        "# Reset states generated by Keras\n",
        "tf.keras.backend.clear_session()\n",
        "\n",
        "# Build the model\n",
        "model = tf.keras.models.Sequential([\n",
        "  tf.keras.layers.Lambda(lambda x: tf.expand_dims(x, axis=-1),\n",
        "                      input_shape=[None]),\n",
        "   tf.keras.layers.Bidirectional(tf.keras.layers.LSTM(32, return_sequences=True)),\n",
        "  tf.keras.layers.Bidirectional(tf.keras.layers.LSTM(32)),\n",
        "  tf.keras.layers.Dense(1),\n",
        "  tf.keras.layers.Lambda(lambda x: x * 100.0)\n",
        "])\n",
        "\n",
        "# Set the learning rate\n",
        "learning_rate = 2e-6\n",
        "\n",
        "# Set the optimizer \n",
        "optimizer = tf.keras.optimizers.SGD(learning_rate=learning_rate, momentum=0.9)\n",
        "\n",
        "# Set the training parameters\n",
        "model.compile(loss=tf.keras.losses.Huber(),\n",
        "              optimizer=optimizer,\n",
        "              metrics=[\"mae\"])\n",
        "\n",
        "# Train the model\n",
        "history = model.fit(dataset,epochs=100, validation_data=val_set)"
      ]
    }
  ],
  "metadata": {
    "accelerator": "GPU",
    "colab": {
      "provenance": [],
      "include_colab_link": true
    },
    "kernelspec": {
      "display_name": "Python 3",
      "language": "python",
      "name": "python3"
    },
    "language_info": {
      "codemirror_mode": {
        "name": "ipython",
        "version": 3
      },
      "file_extension": ".py",
      "mimetype": "text/x-python",
      "name": "python",
      "nbconvert_exporter": "python",
      "pygments_lexer": "ipython3",
      "version": "3.7.4"
    },
    "gpuClass": "standard"
  },
  "nbformat": 4,
  "nbformat_minor": 0
}